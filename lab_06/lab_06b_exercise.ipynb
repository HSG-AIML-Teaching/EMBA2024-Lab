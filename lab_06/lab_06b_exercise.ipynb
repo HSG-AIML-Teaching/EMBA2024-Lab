{
  "cells": [
    {
      "cell_type": "markdown",
      "metadata": {
        "id": "wiNxA5Xmrv21"
      },
      "source": [
        "# Exercises\n",
        "\n",
        "\n"
      ]
    },
    {
      "cell_type": "markdown",
      "source": [
        "白日依山尽，黃河入海流；欲穷千里目，更上一层楼。\n",
        "\n",
        "This is a famous Chinese poem written during the Tang Dynasty. To truly appreciate it, use the API offered by OpenAI to:\n",
        "\n",
        "(1) translate it into English and print out the translation,\n",
        "\n",
        "(2) explain its meaning in English in at most 50 words and print out the explanation,\n",
        "\n",
        "(3) generate an audio file in which the poem is recited in its original language, and then it is explained in English.\n",
        "\n",
        "You can use the code below as your starting point:"
      ],
      "metadata": {
        "id": "HXhERN93ZrMt"
      }
    },
    {
      "cell_type": "markdown",
      "source": [
        "### Setup"
      ],
      "metadata": {
        "id": "gGP4cvO9ZZTA"
      }
    },
    {
      "cell_type": "code",
      "source": [
        "!pip install openai"
      ],
      "metadata": {
        "id": "l3UXsNbxZSlu"
      },
      "execution_count": null,
      "outputs": []
    },
    {
      "cell_type": "code",
      "source": [
        "import os\n",
        "from pathlib import Path\n",
        "from openai import OpenAI\n",
        "import IPython.display as ipd\n",
        "\n",
        "os.environ['OPENAI_API_KEY'] = 'COPY THE API_KEY HERE'\n",
        "\n",
        "client = OpenAI()"
      ],
      "metadata": {
        "id": "zLzC1fJjZWsD"
      },
      "execution_count": null,
      "outputs": []
    },
    {
      "cell_type": "markdown",
      "source": [
        "### 1. Translation and Explanation Using OpenAI Chat Completions API"
      ],
      "metadata": {
        "id": "iKA4bTouZdiq"
      }
    },
    {
      "cell_type": "code",
      "source": [
        "originalText = '白日依山尽，黃河入海流；欲穷千里目，更上一层楼。'"
      ],
      "metadata": {
        "id": "ngnR1FzJ-Ht8"
      },
      "execution_count": null,
      "outputs": []
    },
    {
      "cell_type": "code",
      "source": [
        "## use Chat Completions API to translate the poem\n",
        "def translateFromChineseToEnglish(text):\n",
        "  ## YOUR CODE (START)\n",
        "\n",
        "\n",
        "  ## YOUR CODE (END)\n",
        "  return response.choices[0].message.content"
      ],
      "metadata": {
        "id": "ywR6nxXu-lzO"
      },
      "execution_count": null,
      "outputs": []
    },
    {
      "cell_type": "code",
      "source": [
        "## use Chat Completions API to explain the meaning of the poem with at most 50 words\n",
        "def explainMeaning(text):\n",
        "  ## YOUR CODE (START)\n",
        "\n",
        "\n",
        "  ## YOUR CODE (END)\n",
        "  return response.choices[0].message.content"
      ],
      "metadata": {
        "id": "DBCf3v69_HgF"
      },
      "execution_count": null,
      "outputs": []
    },
    {
      "cell_type": "code",
      "source": [
        "translatedText = translateFromChineseToEnglish(originalText)\n",
        "\n",
        "explainedText = explainMeaning(translatedText)\n",
        "\n",
        "print(translatedText)\n",
        "\n",
        "print(explainedText)"
      ],
      "metadata": {
        "id": "ohgYcMnuZ5Wx"
      },
      "execution_count": null,
      "outputs": []
    },
    {
      "cell_type": "markdown",
      "source": [
        "### 2. Speech Generation Using OpenAI Audio API"
      ],
      "metadata": {
        "id": "_0I0cXJUZwbq"
      }
    },
    {
      "cell_type": "code",
      "source": [
        "## use Audio API to generate text to speech\n",
        "def generateTextToSpeech(text):\n",
        "  ## YOUR CODE (START)\n",
        "\n",
        "\n",
        "  ## YOUR CODE (END)\n",
        "  return speech_file_path"
      ],
      "metadata": {
        "id": "htvehRCy_X5g"
      },
      "execution_count": null,
      "outputs": []
    },
    {
      "cell_type": "code",
      "source": [
        "fileName=generateTextToSpeech(originalText + explainedText)\n",
        "ipd.Audio(filename=fileName)"
      ],
      "metadata": {
        "id": "MvcV0DRZ_1qw"
      },
      "execution_count": null,
      "outputs": []
    },
    {
      "cell_type": "markdown",
      "source": [
        "## 3. Image Generation Using OpenAI Images API"
      ],
      "metadata": {
        "id": "d44hTwHDAEkI"
      }
    },
    {
      "cell_type": "code",
      "source": [
        "## use the Images API with dall-e-3 to generate and image based on the poem\n",
        "def generateImage(prompt):\n",
        "  ## YOUR CODE (START)\n",
        "\n",
        "\n",
        "  ## YOUR CODE (END)\n",
        "  return response.data[0].url"
      ],
      "metadata": {
        "id": "tTiJvvAa_6zw"
      },
      "execution_count": null,
      "outputs": []
    },
    {
      "cell_type": "code",
      "source": [
        "poem_Image_Uri = generateImage(translatedText)"
      ],
      "metadata": {
        "id": "Gk-0c6ftAfPo"
      },
      "execution_count": null,
      "outputs": []
    },
    {
      "cell_type": "code",
      "source": [
        "from PIL import Image\n",
        "import urllib.request\n",
        "\n",
        "# Open the image given its URL\n",
        "## YOUR CODE (START)\n",
        "\n",
        "\n",
        "## YOUR CODE (END)"
      ],
      "metadata": {
        "id": "8KHFuToLAyIT"
      },
      "execution_count": null,
      "outputs": []
    }
  ],
  "metadata": {
    "colab": {
      "provenance": [],
      "toc_visible": true
    },
    "kernelspec": {
      "display_name": "Python 3",
      "name": "python3"
    },
    "language_info": {
      "name": "python"
    }
  },
  "nbformat": 4,
  "nbformat_minor": 0
}